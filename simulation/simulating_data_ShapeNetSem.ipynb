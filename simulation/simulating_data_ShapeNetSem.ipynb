{
 "cells": [
  {
   "cell_type": "markdown",
   "metadata": {},
   "source": [
    "# Simulating data with PyBullet with ShapeNetSem"
   ]
  },
  {
   "cell_type": "markdown",
   "metadata": {},
   "source": [
    "Random ShapeNet objects on a ShapeNet table inside a SUNCG room..."
   ]
  },
  {
   "cell_type": "markdown",
   "metadata": {},
   "source": [
    "Below, we detail the schema for the scene description\n",
    "\n",
    "`scene_description` schema:\n",
    "* room_description (for SUNCG house/room)\n",
    "    * house_id\n",
    "    * room_id\n",
    "* table_description\n",
    "    * mesh_filename\n",
    "    * position (3D)\n",
    "    * orientation (quaternion)\n",
    "    * scale\n",
    "* object_descriptions (list)\n",
    "    * mesh_filename (using the ShapeNet subdirectory)\n",
    "    * position (3D)\n",
    "    * orientation (quaternion)\n",
    "    * scale of object"
   ]
  },
  {
   "cell_type": "markdown",
   "metadata": {},
   "source": [
    "## Imports"
   ]
  },
  {
   "cell_type": "code",
   "execution_count": null,
   "metadata": {},
   "outputs": [],
   "source": [
    "import time\n",
    "import os, sys\n",
    "import json\n",
    "import glob\n",
    "import numpy as np\n",
    "import matplotlib.pyplot as plt\n",
    "import cv2\n",
    "import pandas as pd\n",
    "\n",
    "# my libraries\n",
    "import simulation_util as sim_util\n",
    "\n",
    "# pybullet\n",
    "import pybullet as p\n",
    "import pybullet_data\n",
    "\n",
    "# suncg\n",
    "import pybullet_suncg.simulator as suncg_sim\n",
    "\n",
    "# for reloading libraries and debugging\n",
    "from importlib import reload"
   ]
  },
  {
   "cell_type": "markdown",
   "metadata": {},
   "source": [
    "## Load some SUNCG stuff"
   ]
  },
  {
   "cell_type": "code",
   "execution_count": null,
   "metadata": {},
   "outputs": [],
   "source": [
    "suncg_dir = '/data/suncg/v1/'\n",
    "\n",
    "# House lists\n",
    "training_houses_filename = '/data/tabletop_dataset_v4/training_suncg_houses.json'\n",
    "test_houses_filename = '/data/tabletop_dataset_v4/test_suncg_houses.json'\n",
    "train_houses = json.load(open(training_houses_filename))\n",
    "test_houses = json.load(open(test_houses_filename))\n",
    "\n",
    "# Room types I'm considering\n",
    "valid_room_types = set(['Living_Room', 'Kitchen', 'Room', 'Dining Room', 'Office'])\n",
    "\n",
    "# Room objects to filter out\n",
    "nyuv2_40_classes_filter_list = ['desk', 'chair', 'table', 'person', 'otherstructure', 'otherfurniture']\n",
    "coarse_grained_classes_filter_list = ['desk', 'chair', 'table', 'person', 'computer', 'bench_chair', \n",
    "                                      'ottoman', 'storage_bench', 'pet']"
   ]
  },
  {
   "cell_type": "markdown",
   "metadata": {},
   "source": [
    "## Loading ShapeNetCore/ShapeNetSem stuff"
   ]
  },
  {
   "cell_type": "code",
   "execution_count": null,
   "metadata": {},
   "outputs": [],
   "source": [
    "shapenet_filepath = '/data/ShapeNetCore.v2/'\n",
    "shapenetsem_filepath = '/data/ShapeNetSem/models/'\n",
    "\n",
    "# Create a dictionary of name -> synset_id\n",
    "temp = json.load(open(shapenet_filepath + 'taxonomy.json'))\n",
    "taxonomy_dict = {x['name'] : x['synsetId'] for x in temp}\n",
    "# weirdly, the synsets in the taxonomy file are not the same as what's in the ShapeNetCore.v2 directory. Filter this out\n",
    "synsets_in_dir = os.listdir(shapenet_filepath)\n",
    "synsets_in_dir.remove('taxonomy.json')\n",
    "synsets_in_dir.remove('README.txt')\n",
    "taxonomy_dict = {k:v for (k,v) in taxonomy_dict.items() if v in synsets_in_dir}\n",
    "\n",
    "# List of train/test tables\n",
    "training_tables_filename = '/data/tabletop_dataset_v4/training_shapenet_tables.json'\n",
    "test_tables_filename = '/data/tabletop_dataset_v4/test_shapenet_tables.json'\n",
    "train_tables = json.load(open(training_tables_filename))\n",
    "test_tables = json.load(open(test_tables_filename))\n",
    "\n",
    "# List of train/test object instances\n",
    "train_models = pd.read_csv('/data/tabletop_dataset_v4/training_shapenetsem_objects.csv')\n",
    "test_models = pd.read_csv('/data/tabletop_dataset_v4/test_shapenetsem_objects.csv')"
   ]
  },
  {
   "cell_type": "code",
   "execution_count": null,
   "metadata": {},
   "outputs": [],
   "source": [
    "# debugging. only run if I made a change to SUNCG code, or need to disconnect from PyBullet\n",
    "sim.disconnect()"
   ]
  },
  {
   "cell_type": "code",
   "execution_count": null,
   "metadata": {},
   "outputs": [],
   "source": [
    "suncg_sim = reload(suncg_sim)"
   ]
  },
  {
   "cell_type": "markdown",
   "metadata": {},
   "source": [
    "# Generate scenes"
   ]
  },
  {
   "cell_type": "code",
   "execution_count": null,
   "metadata": {},
   "outputs": [],
   "source": [
    "simulation_params = {\n",
    "    'is_shapenetsem' : True,\n",
    "    \n",
    "    # scene stuff\n",
    "    'min_num_objects_per_scene' : 5,  # 10\n",
    "    'max_num_objects_per_scene' : 10, # 25\n",
    "    'simulation_steps' : 500,\n",
    "\n",
    "    # House stuff\n",
    "    'house_ids' : train_houses, # test_houses\n",
    "\n",
    "    # room stuff\n",
    "    'valid_room_types' : valid_room_types,\n",
    "    'min_xlength' : 3.0, # Note: I believe this is in meters\n",
    "    'min_ylength' : 3.0, \n",
    "\n",
    "    # table stuff\n",
    "    'valid_tables' : train_tables, # test_tables\n",
    "    'max_table_height' : 1.0, # measured in meters\n",
    "    'min_table_height' : 0.75, \n",
    "    'table_init_factor' : 0.9, # this multiplicative factor limits how close you can initialize to wall\n",
    "\n",
    "    # object stuff\n",
    "    'object_ids' : train_models, # test_models\n",
    "    'max_xratio' : 1/3,\n",
    "    'max_yratio' : 1/3,\n",
    "    'max_zratio' : 1/4,\n",
    "    'delta' : 0.2,\n",
    "\n",
    "    # stuff\n",
    "    'max_initialization_tries' : 100,\n",
    "\n",
    "    # Camera/Frustum parameters\n",
    "    'img_width' : 640, \n",
    "    'img_height' : 480,\n",
    "    'near' : 0.01,\n",
    "    'far' : 100,\n",
    "    'fov' : 60, # vertical field of view in angles\n",
    "\n",
    "    # other camera stuff\n",
    "    'max_camera_rotation' : np.pi / 10., # Max rotation in radians\n",
    "\n",
    "    # other stuff\n",
    "    'taxonomy_dict' : taxonomy_dict,\n",
    "    'nyuv2_40_classes_filter_list' : nyuv2_40_classes_filter_list,\n",
    "    'coarse_grained_classes_filter_list' : coarse_grained_classes_filter_list,                   \n",
    "    \n",
    "}"
   ]
  },
  {
   "cell_type": "code",
   "execution_count": null,
   "metadata": {},
   "outputs": [],
   "source": [
    "# Create simulator\n",
    "sim = suncg_sim.Simulator(mode='gui', \n",
    "                          suncg_data_dir_base=suncg_dir, \n",
    "                          shapenet_data_dir_base=shapenet_filepath, \n",
    "                          shapenetsem_data_dir_base=shapenetsem_filepath,\n",
    "                          params=simulation_params, \n",
    "                          verbose=False)"
   ]
  },
  {
   "cell_type": "code",
   "execution_count": null,
   "metadata": {
    "scrolled": true
   },
   "outputs": [],
   "source": [
    "# Note: This will continue trying to generate a single scene until the task is finished. If it fails,\n",
    "#       it will spit out why.\n",
    "def keep_trying_to_generate_single_scene(sim):\n",
    "    try:\n",
    "        scenes = sim.generate_scenes(1)\n",
    "        print(\"Done\")\n",
    "    except TimeoutError as e:\n",
    "        print(str(e))\n",
    "        keep_trying_to_generate_single_scene(sim)\n",
    "    except Exception as e:\n",
    "        print(\"Errored out. Not due to timer, but something else...\")\n",
    "        print(str(e))\n",
    "        keep_trying_to_generate_single_scene(sim)\n",
    "                \n",
    "keep_trying_to_generate_single_scene(sim)"
   ]
  },
  {
   "cell_type": "code",
   "execution_count": null,
   "metadata": {},
   "outputs": [],
   "source": []
  },
  {
   "cell_type": "code",
   "execution_count": null,
   "metadata": {},
   "outputs": [],
   "source": [
    "np.random.seed(1) # debug, to see why textures aren't loading"
   ]
  },
  {
   "cell_type": "code",
   "execution_count": null,
   "metadata": {},
   "outputs": [],
   "source": [
    "# debug\n",
    "sim.params['simulation_steps'] = 2000"
   ]
  },
  {
   "cell_type": "code",
   "execution_count": null,
   "metadata": {},
   "outputs": [],
   "source": [
    "scenes = sim.generate_scenes(1)"
   ]
  },
  {
   "cell_type": "code",
   "execution_count": null,
   "metadata": {},
   "outputs": [],
   "source": []
  },
  {
   "cell_type": "code",
   "execution_count": null,
   "metadata": {},
   "outputs": [],
   "source": []
  },
  {
   "cell_type": "code",
   "execution_count": null,
   "metadata": {},
   "outputs": [],
   "source": [
    "import pybullet as p\n",
    "p.connect(p.GUI)"
   ]
  },
  {
   "cell_type": "code",
   "execution_count": null,
   "metadata": {},
   "outputs": [],
   "source": [
    "# vis_mesh_file='/data/ShapeNetSem/models/82cefc73d1ad85e7a2d0d0949f0233b1.obj'\n",
    "# vis_mesh_file='/data/ShapeNetSem/models/fbb6a1fb01f08eb1575f032b182448e5.obj'\n",
    "# vis_mesh_file='/data/ShapeNetSem/models/474af011baf759749393793f9cf3dbea.obj'\n",
    "\n",
    "cid = p.createCollisionShape(p.GEOM_MESH, fileName=vis_mesh_file, meshScale=1)\n",
    "vid = p.createVisualShape(p.GEOM_MESH, fileName=vis_mesh_file, meshScale=1)\n",
    "\n",
    "obj_id = p.createMultiBody(baseMass=1, \n",
    "                           baseInertialFramePosition=[0,0,0], \n",
    "                           baseCollisionShapeIndex=cid, \n",
    "                           baseVisualShapeIndex=vid,\n",
    "                           basePosition=[0,0,0],\n",
    "                           baseOrientation=[0,0,0,1],\n",
    "                          )"
   ]
  },
  {
   "cell_type": "code",
   "execution_count": null,
   "metadata": {},
   "outputs": [],
   "source": [
    "p.disconnect()"
   ]
  },
  {
   "cell_type": "code",
   "execution_count": null,
   "metadata": {},
   "outputs": [],
   "source": [
    "obj_id"
   ]
  },
  {
   "cell_type": "code",
   "execution_count": null,
   "metadata": {},
   "outputs": [],
   "source": [
    "p.getAABB(obj_id)"
   ]
  },
  {
   "cell_type": "code",
   "execution_count": null,
   "metadata": {},
   "outputs": [],
   "source": []
  },
  {
   "cell_type": "code",
   "execution_count": null,
   "metadata": {},
   "outputs": [],
   "source": []
  },
  {
   "cell_type": "markdown",
   "metadata": {},
   "source": [
    "## Actual Data Generation"
   ]
  },
  {
   "cell_type": "code",
   "execution_count": null,
   "metadata": {},
   "outputs": [],
   "source": [
    "def save_img_dict(img_dict, view_num, save_dir):\n",
    "    # RGB\n",
    "    rgb_filename = save_dir + f\"rgb_{view_num:05d}.jpeg\"\n",
    "    cv2.imwrite(rgb_filename, cv2.cvtColor(img_dict['rgb'], cv2.COLOR_RGB2BGR))\n",
    "\n",
    "    # Depth\n",
    "    depth_filename = save_dir + f\"depth_{view_num:05d}.png\"\n",
    "    cv2.imwrite(depth_filename, sim_util.saveable_depth_image(img_dict['depth']))\n",
    "\n",
    "    # Segmentation\n",
    "    seg_filename = save_dir + f\"segmentation_{view_num:05d}.png\"\n",
    "    sim_util.imwrite_indexed(seg_filename, img_dict['seg'].astype(np.uint8))"
   ]
  },
  {
   "cell_type": "code",
   "execution_count": null,
   "metadata": {
    "scrolled": true
   },
   "outputs": [],
   "source": [
    "total_num_scenarios = 10\n",
    "views_per_scene = 7\n",
    "save_path = '/data/tabletop_dataset_v3/training_set/'\n",
    "\n",
    "scene_num = 0 # start from here\n",
    "while scene_num < total_num_scenarios:\n",
    "    \n",
    "    # Sample scene\n",
    "    try:\n",
    "        sim = suncg_sim.Simulator(mode='gui', \n",
    "                          suncg_data_dir_base=suncg_dir, \n",
    "                          shapenet_data_dir_base=shapenet_filepath, \n",
    "                          params=simulation_params, \n",
    "                          verbose=False)\n",
    "        scene_description = sim.generate_scenes(1)[0]\n",
    "    except TimeoutError as e: # Scene took longer than 45 seconds to generate, or errored out\n",
    "        print(str(e))\n",
    "        sim.disconnect()\n",
    "        continue\n",
    "    except:\n",
    "        print(\"Errored out. Not due to timer, but something else...\")\n",
    "        sim.disconnect()\n",
    "        continue\n",
    "        \n",
    "    # Make directory\n",
    "    save_dir = save_path + f\"scene_{scene_num:05d}/\"\n",
    "    if not os.path.exists(save_dir):\n",
    "        os.makedirs(save_dir)\n",
    "\n",
    "    # Dictionary to save views\n",
    "    scene_description['views'] = {}\n",
    "\n",
    "    # Background-only view\n",
    "    sim.reset()\n",
    "    sim.load_house_room(scene_description)\n",
    "    \n",
    "    valid_background_view = False\n",
    "    num_tries = 0\n",
    "    while not valid_background_view:\n",
    "        \n",
    "        if num_tries > simulation_params['max_initialization_tries']:\n",
    "            break # this will force the entire scene to start over\n",
    "        num_tries += 1\n",
    "        \n",
    "        # Sample the view\n",
    "        img_dict = sim.sample_room_view()\n",
    "\n",
    "        # Make sure it's valid. MUST have at least 2 SUNCG objects (e.g. walls/floor/fridge/couch)\n",
    "        unique_labels = np.unique(img_dict['orig_seg_img'])\n",
    "        valid_background_view = unique_labels.shape[0] >= 2\n",
    "\n",
    "    if not valid_background_view:\n",
    "        print(\"No valid background views...\")\n",
    "        sim.disconnect()\n",
    "        continue\n",
    "    else:\n",
    "        save_img_dict(img_dict, 0, save_dir)\n",
    "        scene_description['views']['background'] = img_dict['view_params']\n",
    "        \n",
    "    \n",
    "    # Background-table view\n",
    "    sim.load_table(scene_description)\n",
    "    valid_table_view = False\n",
    "    num_tries = 0\n",
    "    while not valid_table_view:\n",
    "        \n",
    "        if num_tries > simulation_params['max_initialization_tries']:\n",
    "            break # this will force the entire scene to start over\n",
    "        num_tries += 1\n",
    "        \n",
    "        # Sample the view\n",
    "        img_dict = sim.sample_table_view()\n",
    "        \n",
    "        # Make sure it's valid\n",
    "        unique_labels = np.unique(img_dict['seg'])\n",
    "        valid_table_view = 1 in unique_labels\n",
    "        \n",
    "    if not valid_table_view:\n",
    "        print(\"No valid table views...\")\n",
    "        sim.disconnect()\n",
    "        continue\n",
    "    else:\n",
    "        save_img_dict(img_dict, 1, save_dir)\n",
    "        scene_description['views']['background+table'] = img_dict['view_params']\n",
    "        \n",
    "    # Sample background-table-object views and save \n",
    "    sim.load_objects(scene_description)\n",
    "    scene_description['views']['background+table+objects'] = []\n",
    "    valid_views = False\n",
    "    view_num = 2; num_tries = 0    \n",
    "    while not valid_views: #view_num < views_per_scene:\n",
    "        \n",
    "        if num_tries > simulation_params['max_initialization_tries']:\n",
    "            break # this will force the entire scene to start over\n",
    "        num_tries += 1\n",
    "\n",
    "        # Sample the view\n",
    "        img_dict = sim.sample_table_view()\n",
    "        \n",
    "        # Make sure it's valid\n",
    "        unique_labels = np.unique(img_dict['seg'])\n",
    "        valid = (0 in unique_labels and # background is in view\n",
    "                 1 in unique_labels and # table is in view\n",
    "                 len(set(unique_labels).difference({0,1})) >= 1 # at least 1 objects in view\n",
    "                )\n",
    "        if not valid:\n",
    "            continue # sample another scene\n",
    "\n",
    "        ### Save stuff ###\n",
    "        save_img_dict(img_dict, view_num, save_dir)\n",
    "        scene_description['views']['background+table+objects'].append(img_dict['view_params'])\n",
    "        \n",
    "        # increment    \n",
    "        view_num += 1\n",
    "        if view_num >= views_per_scene:\n",
    "            valid_views = True\n",
    "        \n",
    "    if not valid_views:\n",
    "        print(\"Tried to sample view too many times...\")\n",
    "        sim.disconnect()\n",
    "        continue    \n",
    "    \n",
    "    # Scene Description\n",
    "    scene_description_filename = save_dir + 'scene_description.txt'\n",
    "    with open(scene_description_filename, 'w') as save_file:\n",
    "        json.dump(scene_description, save_file)    \n",
    "\n",
    "    # increment\n",
    "    scene_num += 1\n",
    "    if scene_num % 10 == 0:\n",
    "        print(f\"Generated scene {scene_num}!\")\n",
    "    sim.disconnect()"
   ]
  },
  {
   "cell_type": "markdown",
   "metadata": {},
   "source": [
    "## Scene saving/loading"
   ]
  },
  {
   "cell_type": "code",
   "execution_count": null,
   "metadata": {},
   "outputs": [],
   "source": [
    "save_filename = '/home/chrisxie/Desktop/scene_description.txt'"
   ]
  },
  {
   "cell_type": "code",
   "execution_count": null,
   "metadata": {},
   "outputs": [],
   "source": [
    "scenes = [sim.export_scene_to_dictionary()]\n",
    "\n",
    "# Before saving, chop of absolute filepaths\n",
    "for scene in scenes:\n",
    "    scene['table']['mesh_filename'] = scene['table']['mesh_filename'].replace(shapenet_filepath, '')\n",
    "    for object_desc in scene['object_descriptions']:\n",
    "        object_desc['mesh_filename'] = object_desc['mesh_filename'].replace(shapenet_filepath, '')\n",
    "\n",
    "# Serialize this JSON file\n",
    "with open(save_filename, 'w') as save_file:  \n",
    "    json.dump(scenes, save_file)"
   ]
  },
  {
   "cell_type": "code",
   "execution_count": null,
   "metadata": {},
   "outputs": [],
   "source": [
    "# Load the json file\n",
    "# scenes = json.load(open(save_filename, 'r'))\n",
    "scene_description = json.load(open(save_filename, 'r'))[0]"
   ]
  },
  {
   "cell_type": "markdown",
   "metadata": {},
   "source": [
    "# Load a scene\n",
    "\n",
    "Given a scene description as I've described, load it in PyBullet"
   ]
  },
  {
   "cell_type": "code",
   "execution_count": null,
   "metadata": {},
   "outputs": [],
   "source": [
    "# scene_description = scenes[0]"
   ]
  },
  {
   "cell_type": "code",
   "execution_count": null,
   "metadata": {},
   "outputs": [],
   "source": [
    "sim.load_scene(scene_description)"
   ]
  },
  {
   "cell_type": "markdown",
   "metadata": {},
   "source": [
    "## Sample camera positions"
   ]
  },
  {
   "cell_type": "code",
   "execution_count": null,
   "metadata": {},
   "outputs": [],
   "source": [
    "img_dict = sim.sample_table_view()"
   ]
  },
  {
   "cell_type": "code",
   "execution_count": null,
   "metadata": {},
   "outputs": [],
   "source": [
    "# Plot the sampled camera stuff\n",
    "%matplotlib inline\n",
    "plt.figure(1, figsize=(20,60))\n",
    "\n",
    "# RGB image\n",
    "plt.subplot(1,3,1)\n",
    "plt.imshow(img_dict['rgb'])\n",
    "plt.title('RGB')\n",
    "\n",
    "# Depth image\n",
    "plt.subplot(1,3,2)\n",
    "plt.imshow(img_dict['depth'], cmap='gray')\n",
    "plt.title('Linear depth')\n",
    "\n",
    "# Segmentation image\n",
    "print(np.unique(img_dict['seg']))\n",
    "plt.subplot(1,3,3)\n",
    "plt.imshow(img_dict['seg'])\n",
    "plt.title('Segmentation')\n",
    "\n",
    "# plt.savefig(f'/home/chrisxie/Desktop/ex{i}.png', bbox_inches='tight')\n",
    "# i += 1"
   ]
  },
  {
   "cell_type": "markdown",
   "metadata": {},
   "source": [
    "### Debugging stuff"
   ]
  },
  {
   "cell_type": "code",
   "execution_count": null,
   "metadata": {},
   "outputs": [],
   "source": [
    "temp = p.getDebugVisualizerCamera()\n",
    "camera_yaw, camera_pitch, camera_distance, camera_target = temp[8:]\n",
    "print(\"Yaw: {0}\".format(camera_yaw))\n",
    "print(\"Pitch: {0}\".format(camera_pitch))\n",
    "print(\"Distance: {0}\".format(camera_distance))\n",
    "print(\"Target: {0}\".format(camera_target))"
   ]
  },
  {
   "cell_type": "code",
   "execution_count": null,
   "metadata": {},
   "outputs": [],
   "source": [
    "# Set camera to look at origin\n",
    "p.resetDebugVisualizerCamera(1, 0, 0, np.array([0,0,0]))"
   ]
  }
 ],
 "metadata": {
  "kernelspec": {
   "display_name": "Python [conda env:pybullet]",
   "language": "python",
   "name": "conda-env-pybullet-py"
  },
  "language_info": {
   "codemirror_mode": {
    "name": "ipython",
    "version": 3
   },
   "file_extension": ".py",
   "mimetype": "text/x-python",
   "name": "python",
   "nbconvert_exporter": "python",
   "pygments_lexer": "ipython3",
   "version": "3.7.3"
  }
 },
 "nbformat": 4,
 "nbformat_minor": 2
}
